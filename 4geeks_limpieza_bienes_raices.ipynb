{
  "nbformat": 4,
  "nbformat_minor": 0,
  "metadata": {
    "colab": {
      "provenance": [],
      "authorship_tag": "ABX9TyNZ9ZZKTNc69QI9s/wSWoJc",
      "include_colab_link": true
    },
    "kernelspec": {
      "name": "python3",
      "display_name": "Python 3"
    },
    "language_info": {
      "name": "python"
    }
  },
  "cells": [
    {
      "cell_type": "markdown",
      "metadata": {
        "id": "view-in-github",
        "colab_type": "text"
      },
      "source": [
        "<a href=\"https://colab.research.google.com/github/JPineiro13/realestate-datacleanup-exercise/blob/main/4geeks_limpieza_bienes_raices.ipynb\" target=\"_parent\"><img src=\"https://colab.research.google.com/assets/colab-badge.svg\" alt=\"Open In Colab\"/></a>"
      ]
    },
    {
      "cell_type": "code",
      "execution_count": null,
      "metadata": {
        "id": "qraF8cTGt4yY"
      },
      "outputs": [],
      "source": [
        "#Esta parte nos viene dada de antemano\n",
        "\n",
        "import pandas as pd\n",
        "\n",
        "# this CSV file contains semicolons instead of comas as separator\n",
        "ds = pd.read_csv('assets/real_estate.csv', sep=';')\n",
        "ds"
      ]
    },
    {
      "cell_type": "code",
      "source": [
        "#### Ejercicio 01. ¿Cuál es la casa mas cara en el todo el dataset? (★☆☆)\n",
        "\n",
        "indice_casa_cara = ds['price'].idxmax()\n",
        "\n",
        "direccion_cara = ds.loc[indice_casa_cara, 'address']\n",
        "precio_cara = ds.loc[indice_casa_cara, 'price']\n",
        "\n",
        "print(f'La casa más cara cuesta {precio_cara} euros y está en {direccion_cara}')"
      ],
      "metadata": {
        "id": "T-HtbpeHuCER"
      },
      "execution_count": null,
      "outputs": []
    },
    {
      "cell_type": "code",
      "source": [
        "#### Ejercicio 02. ¿Cuál es la casa mas barata del dataset? (★☆☆)\n",
        "\n",
        "indice_casa_barata = ds['price'].idxmin()\n",
        "\n",
        "\n",
        "direccion_casa_barata = ds.loc[indice_casa_barata, 'address']\n",
        "precio_casa_barata = ds.loc[indice_casa_barata, 'price']\n",
        "\n",
        "\n",
        "print(f'La casa más barata cuesta {precio_casa_barata} euros y está en {direccion_casa_barata}')"
      ],
      "metadata": {
        "id": "nP4PyyaluEzi"
      },
      "execution_count": null,
      "outputs": []
    },
    {
      "cell_type": "code",
      "source": [
        "#### Ejercicio 03. ¿Cuál es la casa mas grande y la mas pequeña del dataset? (★☆☆)\n",
        "\n",
        "idx_casa_grande = ds['surface'].idxmax()\n",
        "\n",
        "direccion_grande = ds.loc[idx_casa_grande, 'address']\n",
        "superficie_grande = ds.loc[idx_casa_grande, 'surface']\n",
        "\n",
        "idx_casa_pequeña = ds['surface'].idxmin()\n",
        "\n",
        "direccion_pequeña = ds.loc[idx_casa_pequeña, 'address']\n",
        "superficie_pequeña = ds.loc[idx_casa_pequeña, 'surface']\n",
        "\n",
        "print(f'La casa más grande tiene {superficie_grande} y está en  {direccion_grande}')\n",
        "print(f'La casa más pequeña tiene {superficie_pequeña} y está en {direccion_pequeña}')"
      ],
      "metadata": {
        "id": "jxyy6a_5v-3i"
      },
      "execution_count": null,
      "outputs": []
    },
    {
      "cell_type": "code",
      "source": [
        "#### Ejercicio 04. ¿Cuantas poblaciones (columna level5) contiene el dataset? (★☆☆)\n",
        "\n",
        "poblaciones_unicas = ds['level5'].drop_duplicates()\n",
        "\n",
        "print(','.join(poblaciones_unicas))\n",
        "\n",
        "poblaciones_distintas = ds['level5'].nunique()\n",
        "print(f'El dataset contiene {poblaciones_distintas} poblaciones.')"
      ],
      "metadata": {
        "id": "GGdbwdQtw1Bv"
      },
      "execution_count": null,
      "outputs": []
    },
    {
      "cell_type": "code",
      "source": [
        "#### Ejercicio 05. ¿El data set contiene valores no admitidos (NAs)? (★☆☆)\n",
        "\n",
        "contiene_nas = ds.isna().any()\n",
        "print(ds.isna())"
      ],
      "metadata": {
        "id": "4YSlAVDqxGX4"
      },
      "execution_count": null,
      "outputs": []
    },
    {
      "cell_type": "code",
      "source": [
        "#### Ejercicio 06. Elimina los NAs del data set, si aplica (★★☆)\n",
        "\n",
        "dimensiones_tabla_original = ds.shape\n",
        "\n",
        "tabla_sin_nas = ds.dropna()\n",
        "\n",
        "dimensiones_sin_nas = tabla_sin_nas.shape\n",
        "\n",
        "print(f'Dimensiones del DataFrame original: {dimensiones_tabla_original}')\n",
        "print(f'Dimensiones del DataFrame sin NAs: {dimensiones_sin_nas}')"
      ],
      "metadata": {
        "id": "5HiB5GZyyMvr"
      },
      "execution_count": null,
      "outputs": []
    },
    {
      "cell_type": "code",
      "source": [
        "#### Ejercicio 07. ¿Cuál la media de precios en la población (columna level5) de \"Arroyomolinos (Madrid)\"? (★★☆)\n",
        "\n",
        "arroyomolinos = ds[ds['level5'] == 'Arroyomolinos (Madrid)']\n",
        "\n",
        "media_precios_arroyomolinos = arroyomolinos['price'].mean()\n",
        "\n",
        "print(f'El precio medio en Arroyomollinos es {media_precios_arroyomolinos} euros')"
      ],
      "metadata": {
        "id": "DvxjXeOLz8wZ"
      },
      "execution_count": null,
      "outputs": []
    },
    {
      "cell_type": "code",
      "source": [
        "#### Ejercicio 08. Trazar el histograma de los precios para la población (level5 column) de \"Arroyomolinos (Madrid)\" y explica qué observas (★★☆)\n",
        "\n",
        "import matplotlib.pyplot as plt\n",
        "\n",
        "\n",
        "arroyomolinos_df = ds[ds['level5'] == 'Arroyomolinos (Madrid)']\n",
        "\n",
        "plt.hist(arroyomolinos_df['price'], bins=16, color='blue')\n",
        "plt.title('Precios en Arroyomolinos')\n",
        "plt.xlabel('Coste en euros')\n",
        "plt.ylabel('Cantidad de viviendas')\n",
        "plt.show()\n",
        "\n",
        "print(\"Puede apreciarse que la gran mayoría de viviendas están en un rango de precios de entre casi 200.000 hasta 400.000 euros. Además, las casas de 350.000 euros son las más frecuentes\")"
      ],
      "metadata": {
        "id": "p7OUrtgc2u06"
      },
      "execution_count": null,
      "outputs": []
    },
    {
      "cell_type": "code",
      "source": [
        "#### Ejercicio 09. ¿ Son los precios promedios de \"Valdemorillo\" y \"Galapagar\" los mismos? (★★☆)\n",
        "\n",
        "valdemorillo = ds[ds['level5'] == 'Valdemorillo']\n",
        "galapagar = ds[ds['level5'] == 'Galapagar']\n",
        "\n",
        "precio_prom_valdemorillo = valdemorillo['price'].mean()\n",
        "precio_prom_galapagar = galapagar['price'].mean()\n",
        "\n",
        "\n",
        "print(f'Precio promedio en Valdemorillo: {precio_prom_valdemorillo} euros')\n",
        "print(f'Precio promedio en Galapagar: {precio_prom_galapagar} euros')\n",
        "\n",
        "print(\"Como se puede apreciar, el precio medio por vivienda en Valdemorillo y Galapagar es prácticamente el mismo: 360.000-365.000 euros. Es posible que si empleamos otras métricas como la desviación estánadr podamos encontrar alguna diferencia\")"
      ],
      "metadata": {
        "id": "ZOVyutbD4PQy"
      },
      "execution_count": null,
      "outputs": []
    },
    {
      "cell_type": "code",
      "source": [
        "#### Ejercicio 10. ¿Son los promedios de precio por metro cuadrado (price/m2) de \"Valdemorillo\" y \"Galapagar\" los mismos? (★★☆)\n",
        "\n",
        "valdemorillo = ds[ds['level5'] == 'Valdemorillo']\n",
        "galapagar = ds[ds['level5'] == 'Galapagar']\n",
        "\n",
        "valdemorillo['pps'] = valdemorillo['price'] / valdemorillo['surface']\n",
        "galapagar['pps'] = galapagar['price'] / galapagar['surface']\n",
        "\n",
        "media_pps_valdemorillo = valdemorillo['pps'].mean()\n",
        "media_pps_galapagar = galapagar['pps'].mean()\n",
        "\n",
        "print(f'En Valdemorillo el precio medio es de {media_pps_valdemorillo} euros por metro cuadrado')\n",
        "print(f'En Galapagar el preciomedio es de {media_pps_galapagar} euros por metro cuadrado')\n",
        "print(\"Dado que en el ejercicio anterior hemos visto que el precio promedio de las viviendas en cada municipio era el mismo, si ahora además vemos que el precio promedio en Galapagar es más elevado (1600 frente a 1300), es evidente que las viviendas en Galapagar son más pequeñas (de media)\")"
      ],
      "metadata": {
        "id": "t4UZuhA27_-m"
      },
      "execution_count": null,
      "outputs": []
    },
    {
      "cell_type": "code",
      "source": [
        "#### Ejercicio 11. Analiza la relación entre la superficie y el precio de las casas. (★★☆)\n",
        "\n",
        "import matplotlib.pyplot as plt\n",
        "\n",
        "\n",
        "plt.scatter(ds['surface'], ds['price'])\n",
        "plt.title('Scatterpot superficie - precio')\n",
        "plt.xlabel('Superficie')\n",
        "plt.ylabel('Precio en euros')\n",
        "plt.grid(True)\n",
        "plt.show()\n",
        "\n",
        "print(\"En este caso, es evidente que un par de fincas se han colado en el scatterplot, por lo que sería interesante eliminar estos inmuebles con mucha más superficie que los demás para que el resto de viviendas se repartieran por el gráfico, en lugar de estar todas agrupadas a la izquierda\")"
      ],
      "metadata": {
        "id": "v0doLxhN9EBe"
      },
      "execution_count": null,
      "outputs": []
    },
    {
      "cell_type": "code",
      "source": [
        "#### Ejercicio 12. ¿Cuántas agencia de bienes raíces contiene el dataset? (★★☆)\n",
        "\n",
        "agencias_distintas = ds['realEstate_name'].nunique()\n",
        "\n",
        "\n",
        "print(f'Hay {agencias_distintas} agencias de bienes raíces distintas en el dataset')"
      ],
      "metadata": {
        "id": "IBjy376e9b-h"
      },
      "execution_count": null,
      "outputs": []
    },
    {
      "cell_type": "code",
      "source": [
        "#### Ejercicio 13. ¿Cuál es la población (columna level5) que contiene la mayor cantidad de casas?(★★☆)\n",
        "\n",
        "poblac_con_mas_casas = ds['level5'].value_counts().idxmax()\n",
        "cantidad_casas = ds['level5'].value_counts().max()\n",
        "\n",
        "print(f'{poblac_con_mas_casas} tiene la mayor cantidad de casas. Un total de {cantidad_casas}')"
      ],
      "metadata": {
        "id": "L-iQ82ql-nev"
      },
      "execution_count": null,
      "outputs": []
    },
    {
      "cell_type": "code",
      "source": [
        "#### Ejercicio 14. Ahora vamos a trabajar con el \"cinturón sur\" de Madrid. Has un subconjunto del Dataframe original que contenga las siguientes poblaciones (columna level5): \"Fuenlabrada\",\"Leganés\",\"Getafe\",\"Alcorcón\" (★★☆)\n",
        "\n",
        "poblac_cinturon_sur = [\"Fuenlabrada\", \"Leganés\", \"Getafe\", \"Alcorcón\"]\n",
        "\n",
        "cinturon_sur = ds[ds['level5'].isin(poblac_cinturon_sur)]\n",
        "\n",
        "print(cinturon_sur)"
      ],
      "metadata": {
        "id": "grZRyC8tAMEq"
      },
      "execution_count": null,
      "outputs": []
    },
    {
      "cell_type": "code",
      "source": [
        "#### Ejercicio 15. Traza un gráfico de barra de la media de los precios y explica lo que observas (debes usar el subconjunto obtenido de la pregunta 14) (★★★)\n",
        "\n",
        "media_precios_cinturon_sur = cinturon_sur.groupby('level5')['price'].mean()\n",
        "\n",
        "media_precios_cinturon_sur.sort_values().plot(kind='bar', color='blue')\n",
        "plt.title('Media precios en el cinturón sur')\n",
        "plt.xlabel('Precio promedio')\n",
        "plt.ylabel('Población')\n",
        "plt.show()"
      ],
      "metadata": {
        "id": "kqaCsf9ZBFrZ"
      },
      "execution_count": null,
      "outputs": []
    },
    {
      "cell_type": "code",
      "source": [
        "#### Ejercicio 16. Calcula la media y la varianza dela muestra para las siguientes variables: precio, habitaciones, superficie y baños (debes usar el subconjunto obtenido en la pregunta 14) (★★★)\n",
        "\n",
        "medias_varianzas = cinturon_sur[['price', 'rooms', 'surface', 'bathrooms']].agg(['mean', 'var'])\n",
        "\n",
        "print(\"Media y varianza para precio, habitaciones, superficie y baños:\")\n",
        "print(medias_varianzas)"
      ],
      "metadata": {
        "id": "-5vfwkM7CAnE"
      },
      "execution_count": null,
      "outputs": []
    }
  ]
}